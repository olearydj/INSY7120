{
 "cells": [
  {
   "cell_type": "markdown",
   "metadata": {
    "id": "NNTI80eWNkCE"
   },
   "source": [
    "# Intro to NumPy and Pandas"
   ]
  },
  {
   "cell_type": "markdown",
   "metadata": {
    "id": "eZerEnW_NFCC"
   },
   "source": [
    "## Crash Course in NumPy\n",
    "\n",
    "Just the essentials. Most will be handled by Pandas.\n",
    "\n",
    "The examples here use trivial \"datasets\" for clarity and simplicity. In real world use, NumPy can easily handle arrays with 1M elements (e.g. 1000 x 1000 matrix). With careful memory management it can handle 100 to 1000x that.\n",
    "\n",
    "Note that these tools are complex and this simplified introduction glosses over some important nuances that we will elaborate on later, as required."
   ]
  },
  {
   "cell_type": "markdown",
   "metadata": {
    "id": "Pt0xseUnNPyn"
   },
   "source": [
    "### Import\n",
    "\n",
    "By convention, NumPy is usually imported as `np` - shorthand notation."
   ]
  },
  {
   "cell_type": "code",
   "execution_count": null,
   "metadata": {
    "id": "pC7YOQ68MYk3"
   },
   "outputs": [],
   "source": [
    "import numpy as np"
   ]
  },
  {
   "cell_type": "markdown",
   "metadata": {
    "id": "StiXgpviNd1T"
   },
   "source": [
    "### Creating Arrays\n",
    "\n",
    "Use NumPy's array method (`np.array`) to convert an \"array-like\" object into a NumPy array."
   ]
  },
  {
   "cell_type": "code",
   "execution_count": null,
   "metadata": {
    "colab": {
     "base_uri": "https://localhost:8080/"
    },
    "id": "6Dv_W42pMgre",
    "outputId": "67726d72-57e9-43e8-b99f-a11b510213e8"
   },
   "outputs": [],
   "source": [
    "# Only the basics needed for ML work\n",
    "row = [1, 2, 3, 4, 5]\n",
    "\n",
    "# 1D array from a list (table row)\n",
    "arr_1d = np.array(row)\n",
    "print(arr_1d)\n",
    "type(arr_1d)\n"
   ]
  },
  {
   "cell_type": "code",
   "execution_count": null,
   "metadata": {
    "colab": {
     "base_uri": "https://localhost:8080/"
    },
    "id": "lU0JO0NUOr4v",
    "outputId": "218fba50-b1cd-4838-abef-e9512fdce4e4"
   },
   "outputs": [],
   "source": [
    "table = [\n",
    "    [1, 2, 3],\n",
    "    [4, 5, 6],\n",
    "    [7, 8, 9]\n",
    "]\n",
    "\n",
    "# 2D array from a nested list (list of lists, or table)\n",
    "arr_2d = np.array(table)\n",
    "print(arr_2d)\n",
    "type(arr_2d)"
   ]
  },
  {
   "cell_type": "markdown",
   "metadata": {
    "id": "AdquusX2gfkm"
   },
   "source": [
    "### Data Types\n",
    "\n",
    "NumPy arrays are homogeneous - all elements are the same type. The types do not match those found in base Python.\n",
    "\n",
    "The `dtype` attribute identifies the type of the array and thus all values in it."
   ]
  },
  {
   "cell_type": "code",
   "execution_count": null,
   "metadata": {
    "colab": {
     "base_uri": "https://localhost:8080/"
    },
    "id": "vQ0Wu5kMg115",
    "outputId": "547a10b1-84b2-4580-b34b-303bfa7b1fca"
   },
   "outputs": [],
   "source": [
    "# create arrays of all integer and all float values\n",
    "int_arr = np.array([1, 2, 3])\n",
    "float_arr = np.array([1., 2., 3.])\n",
    "text_arr = np.array(['a', 'b', 'c'])\n",
    "\n",
    "print(\"Integer array:\", int_arr.dtype)   # int64, a 64-bit integer\n",
    "print(\"Float array:\", float_arr.dtype)   # float64, a 64-bit floating point\n",
    "print(\"Text array:\", text_arr.dtype)     # <U1, Unicode string of length 1"
   ]
  },
  {
   "cell_type": "markdown",
   "metadata": {
    "id": "kflMlAVmiUhF"
   },
   "source": [
    "NumPy is optimized for numerical computations with homogeneous arrays. Data with mixed types, missing values, or other object types (e.g. dates) will be lumped into a default \"object\" type.\n",
    "\n",
    "In these situations NumPy might not perform as expected."
   ]
  },
  {
   "cell_type": "code",
   "execution_count": null,
   "metadata": {
    "colab": {
     "base_uri": "https://localhost:8080/"
    },
    "id": "mo_qqIAwi7L9",
    "outputId": "7a85a229-7128-44ed-b791-0f619f1a50d0"
   },
   "outputs": [],
   "source": [
    "from datetime import datetime\n",
    "\n",
    "with_missing = np.array([1, None, 3])\n",
    "with_dates = np.array([datetime.now(), datetime.now()])\n",
    "\n",
    "print(\"With missing:\", with_missing.dtype)\n",
    "print(\"With dates:\", with_dates.dtype)"
   ]
  },
  {
   "cell_type": "markdown",
   "metadata": {
    "id": "jJsHTta8kKW8"
   },
   "source": [
    "Take care when creating NumPy arrays from mixed data. It can be aggressive about implicit type conversion, which can lead to unexpected results."
   ]
  },
  {
   "cell_type": "code",
   "execution_count": null,
   "metadata": {
    "colab": {
     "base_uri": "https://localhost:8080/"
    },
    "id": "-eUqSjNEg7jN",
    "outputId": "9b97cad0-92cd-42ba-af6b-02c2481456a7"
   },
   "outputs": [],
   "source": [
    "mixed_arr = np.array([1, 2, 3.5])\n",
    "mixed_text = np.array([1, 'text', '3.14'])\n",
    "mixed_text_2 = np.array([1, 2, 'text'])\n",
    "\n",
    "print(\"Mixed array:\", mixed_arr.dtype)   # float64 (upcast to preserve decimals)\n",
    "print(\"Mixed text:\", mixed_text.dtype)   # Unicode - numbers converted to text!\n",
    "print(\"Mixed text 2:\", mixed_text_2.dtype)\n",
    "\n",
    "print(mixed_arr)\n",
    "print(mixed_text)\n",
    "print(mixed_text_2)"
   ]
  },
  {
   "cell_type": "markdown",
   "metadata": {},
   "source": [
    "This can be avoided by specifying the desired type at the time of creation using the `dtype` parameter. Array types can also be converted with the `astype` method."
   ]
  },
  {
   "cell_type": "markdown",
   "metadata": {
    "id": "BQATBux7NA7y"
   },
   "source": [
    "### Shape and Dimensions\n",
    "\n",
    "- Dimension: the number of axes in an array\n",
    "  - accessible via `ndim` attribute\n",
    "- Shape: the length of each axis, expressed in column, row order\n",
    "  - accessible via `shape` attribute\n",
    "\n",
    "For the row array:"
   ]
  },
  {
   "cell_type": "code",
   "execution_count": null,
   "metadata": {
    "colab": {
     "base_uri": "https://localhost:8080/"
    },
    "id": "SOQsX0BfMqc-",
    "outputId": "12ebc2a1-04f4-4ebf-ab8f-f128d7ddbaf9"
   },
   "outputs": [],
   "source": [
    "print(\"Dimension of row:\", arr_1d.ndim)\n",
    "print(\"Shape of row:\", arr_1d.shape)"
   ]
  },
  {
   "cell_type": "markdown",
   "metadata": {
    "id": "0SXzh0S7Q6zG"
   },
   "source": [
    "Shape is always expressed as a tuple, which Python represents as a comma-separated list of values. For a single-value tuple, this includes a trailing comma.\n",
    "\n",
    "Don't confuse this with other container types in Python, like list and set, that also use comma separated values. Those are represented by the surrounding braces, e.g. `[]` for lists and `{}` for sets. Though tuples are shown with parentheses, it is the commas that make a tuple.\n"
   ]
  },
  {
   "cell_type": "code",
   "execution_count": null,
   "metadata": {
    "id": "ME5VETPGSD4T"
   },
   "outputs": [],
   "source": [
    "single_number = (5)\n",
    "\n",
    "# empty tuple is a special case; no commas\n",
    "empty_tuple = ()\n",
    "\n",
    "# common syntax for tuples\n",
    "single_tuple = (5,)\n",
    "two_tuple = (5, 2)\n",
    "\n",
    "# but parenthesis are optional\n",
    "also_tuple = 5, 2"
   ]
  },
  {
   "cell_type": "markdown",
   "metadata": {
    "id": "1zpxbMFXSCqF"
   },
   "source": [
    "\n",
    "\n",
    "For the table array:\n"
   ]
  },
  {
   "cell_type": "code",
   "execution_count": null,
   "metadata": {
    "colab": {
     "base_uri": "https://localhost:8080/"
    },
    "id": "Wd3ZyNYOSv-I",
    "outputId": "359fb3a6-f610-4a53-de18-f41d1b58e3b4"
   },
   "outputs": [],
   "source": [
    "print(\"Dimension of table:\", arr_2d.ndim)\n",
    "print(\"Shape of table:\", arr_2d.shape)"
   ]
  },
  {
   "cell_type": "markdown",
   "metadata": {
    "id": "CcejtZ3oM5gj"
   },
   "source": [
    "### Indexing\n",
    "\n",
    "Similar to base Python, but with a more flexible syntax, including traditional row, column notation.\n",
    "\n",
    "Each provided index selects a single position along the corresponding axis."
   ]
  },
  {
   "cell_type": "code",
   "execution_count": null,
   "metadata": {
    "colab": {
     "base_uri": "https://localhost:8080/"
    },
    "id": "Uaq4dU8cMrc-",
    "outputId": "1ddaf4d7-5641-402e-9d2a-236c7edc980a"
   },
   "outputs": [],
   "source": [
    "# for row data, syntax is the same as base python\n",
    "print(\"First element of row:\", arr_1d[0])\n",
    "\n",
    "# for multi-dimensional data, using tuple-style indexing (preferred)\n",
    "print(\"Middle element of table:\", arr_2d[1,1])\n",
    "\n",
    "# sequence of index operations also allowed, like base Python (clunky)\n",
    "print(\"First element of table:\", arr_2d[0][0])\n"
   ]
  },
  {
   "cell_type": "markdown",
   "metadata": {
    "id": "oBQ_dH4cM0UP"
   },
   "source": [
    "### Slicing\n",
    "\n",
    "A slice is a subset of data specified as a range of indexes.\n",
    "\n",
    "Similar to base Python, slices use the colon notation `start:stop[:step]`, where `step` is optional and `stop` is exclusive (i.e., not included in the range)."
   ]
  },
  {
   "cell_type": "code",
   "execution_count": null,
   "metadata": {
    "colab": {
     "base_uri": "https://localhost:8080/"
    },
    "id": "GG5PIhf3bVHc",
    "outputId": "bf1f34d1-0372-4318-a437-c292e1d7b2c0"
   },
   "outputs": [],
   "source": [
    "# for row data, syntax is the same as base python\n",
    "print(\"First three elements of row:\", arr_1d[0:3])\n",
    "\n",
    "# for multi-dimensional data, slice and index can be combined\n",
    "print(\"First two elements of second row:\", arr_2d[1, 0:2])\n",
    "\n",
    "# empty start/stop implies full range, like base Python\n",
    "print(\"All elements after first:\", arr_1d[1:])\n",
    "print(\"First two rows of table:\\n\", arr_2d[:2])"
   ]
  },
  {
   "cell_type": "markdown",
   "metadata": {
    "id": "R5Ock44fb3di"
   },
   "source": [
    "Any index that is omitted is treated as a full slice."
   ]
  },
  {
   "cell_type": "code",
   "execution_count": null,
   "metadata": {
    "colab": {
     "base_uri": "https://localhost:8080/"
    },
    "id": "4l7BBmGybz_8",
    "outputId": "e4ad6bde-5418-4f7f-bc38-a2247db0e197"
   },
   "outputs": [],
   "source": [
    "# equivalent to arr_2d[0,:]\n",
    "print(\"First row of table:\", arr_2d[0])\n",
    "\n",
    "# must specify both axes for column\n",
    "print(\"First column of table:\", arr_2d[:,0])"
   ]
  },
  {
   "cell_type": "markdown",
   "metadata": {
    "id": "hMGgc3D3cLA4"
   },
   "source": [
    "The ability to pull a column of data in this way is powerful. In base Python you'd have to do a loop and extract the desired column from each row."
   ]
  },
  {
   "cell_type": "code",
   "execution_count": null,
   "metadata": {
    "id": "b1k36zpRcYx5"
   },
   "outputs": [],
   "source": [
    "col = []\n",
    "for row in table:\n",
    "  col.append(row[1])\n",
    "\n",
    "print(col)\n",
    "\n",
    "# alternatively, in a list comprehension\n",
    "[row[1] for row in table]"
   ]
  },
  {
   "cell_type": "markdown",
   "metadata": {
    "id": "sZo_xiZJcuCM"
   },
   "source": [
    "When dealing with tabular data, where rows are observations and columns are attributes, we will often want to work with columns. NumPy makes this easy. Pandas leans into the distinction, taking a column-based approach to working with data."
   ]
  },
  {
   "attachments": {},
   "cell_type": "markdown",
   "metadata": {},
   "source": [
    "### Views\n",
    "\n",
    "It is important to note that basic indexing and slicing operations do not modify the original data. They return a **view** of original data, not a **copy**. Changes made to a view will be reflected in the original.\n",
    "\n",
    "More advanced indexing and slicing return a **copy** of the data.\n",
    "\n",
    "We will explore the implications of this distinction as required."
   ]
  },
  {
   "cell_type": "markdown",
   "metadata": {
    "id": "48k7BMLIMvir"
   },
   "source": [
    "### Reshaping\n",
    "\n",
    "We will sometimes need to convert data between row and column form or reshape it in different ways without changing the total number of elements."
   ]
  },
  {
   "cell_type": "code",
   "execution_count": null,
   "metadata": {
    "colab": {
     "base_uri": "https://localhost:8080/"
    },
    "id": "xEIxQyjxMsvS",
    "outputId": "fa230094-2c69-4fe9-b554-ea1347161316"
   },
   "outputs": [],
   "source": [
    "arr = np.array([1, 2, 3, 4, 5, 6, 7, 8, 9, 10, 11, 12])\n",
    "print(arr.shape)"
   ]
  },
  {
   "cell_type": "code",
   "execution_count": null,
   "metadata": {
    "colab": {
     "base_uri": "https://localhost:8080/"
    },
    "id": "mLtxaU_veqxN",
    "outputId": "17a80171-11e0-4a21-8159-1785ad2ff7e1"
   },
   "outputs": [],
   "source": [
    "print(\"As row:\", arr.reshape(1, 12))      # one row\n",
    "print(\"As column:\\n\", arr.reshape(12, 1))   # one column\n",
    "print(\"As table:\\n\", arr.reshape(3, 4))     # 3 rows, 4 cols\n",
    "print(\"As cube:\\n\", arr.reshape(2, 2, 3))   # 2x2x3 3D array"
   ]
  },
  {
   "cell_type": "markdown",
   "metadata": {
    "id": "NcK0WsyjfRqI"
   },
   "source": [
    "### Array Creation\n",
    "\n",
    "NumPy also includes a variety of methods for constructing arrays from scratch."
   ]
  },
  {
   "cell_type": "code",
   "execution_count": null,
   "metadata": {
    "colab": {
     "base_uri": "https://localhost:8080/"
    },
    "id": "M8z6WGitezqK",
    "outputId": "25c8d8f4-a663-4dc1-bf2c-61a39f957a92"
   },
   "outputs": [],
   "source": [
    "# Fixed values\n",
    "print(\"Zeros array:\")\n",
    "print(np.zeros((2, 3)))  # shape specified as tuple\n",
    "\n",
    "print(\"\\nOnes array:\")\n",
    "print(np.ones((2, 3)))\n",
    "\n",
    "print(\"\\nIdentity matrix:\")\n",
    "print(np.eye(3))  # square matrix, size specified as single number\n",
    "\n",
    "# Sequences\n",
    "print(\"\\nRange-like sequence:\")\n",
    "print(np.arange(5))  # like Python's range()\n",
    "\n",
    "print(\"\\nEvenly spaced values:\")\n",
    "print(np.linspace(0, 1, 5))  # 5 values from 0 to 1 inclusive\n",
    "\n",
    "# Random values\n",
    "print(\"\\nRandom uniform [0,1):\")\n",
    "print(np.random.random((2, 3)))\n",
    "\n",
    "print(\"\\nRandom normal (mean=0, std=1):\")\n",
    "print(np.random.normal(size=(2, 3)))"
   ]
  },
  {
   "cell_type": "markdown",
   "metadata": {
    "id": "bRepffmJmZvm"
   },
   "source": [
    "## Introducing Pandas\n",
    "\n",
    "Pandas is designed primarily for manipulating tabular (i.e., 2D).\n",
    "\n",
    "The *DataFrame* is Pandas' primary data structure - a 2D table where columns are *Series* (1D arrays) that can have different types. This matches how we typically think about data: observations (rows) described by named attributes (columns).\n",
    "\n",
    "Convert the `table` array into a DataFrame.\n"
   ]
  },
  {
   "cell_type": "code",
   "execution_count": null,
   "metadata": {
    "colab": {
     "base_uri": "https://localhost:8080/"
    },
    "id": "1Zi9UFUhfhC8",
    "outputId": "85f1aa35-7bec-4dc3-d883-4a81611174b2"
   },
   "outputs": [],
   "source": [
    "# by convention, Pandas is loaded as pd\n",
    "import pandas as pd\n",
    "\n",
    "# Let's convert our table array into a pandas DataFrame\n",
    "# Same data, but now with column names\n",
    "df = pd.DataFrame(arr_2d, columns=['A', 'B', 'C'])\n",
    "print(df)"
   ]
  },
  {
   "cell_type": "markdown",
   "metadata": {
    "id": "TXOVOxnxqKo7"
   },
   "source": [
    "Pandas simplifies column access by supporting named references."
   ]
  },
  {
   "cell_type": "code",
   "execution_count": null,
   "metadata": {
    "colab": {
     "base_uri": "https://localhost:8080/"
    },
    "id": "2bHxjzfaoO9W",
    "outputId": "d808403d-a80d-4040-82b3-6a3374d696d9"
   },
   "outputs": [],
   "source": [
    "# NumPy uses somewhat cryptic indexing syntax\n",
    "print(\"NumPy - first column:\", arr_2d[:,0])\n",
    "\n",
    "# Pandas allows named columns\n",
    "print(\"\\nPandas - column 'A':\")\n",
    "print(df['A'])  # direct access by name"
   ]
  },
  {
   "cell_type": "markdown",
   "metadata": {
    "id": "xe6pmw1crFUj"
   },
   "source": [
    "Conceptually,\n",
    "\n",
    "- A Pandas Series is like a 1D NumPy array with (optional) labels for indicies\n",
    "- A Pandas Dataframe is like a group of named Series that represent the columnar data.\n",
    "\n",
    "Where NumPy arrays are homogeneous, every column (Series) in a Pandas DataFrame has it's own type.\n",
    "\n",
    "This is much more in line with real world use cases, where each attribute represents different observed values. For example, a table of collected data might include the age, sex / gender, country of origin, date of birth, and score for each participant in a study."
   ]
  },
  {
   "cell_type": "code",
   "execution_count": null,
   "metadata": {
    "colab": {
     "base_uri": "https://localhost:8080/"
    },
    "id": "TMlUIQLSqiNJ",
    "outputId": "11706df8-38e9-46bc-a6e6-4111e64cfc25"
   },
   "outputs": [],
   "source": [
    "# Create a DataFrame with example participant data\n",
    "df = pd.DataFrame({\n",
    "   'age': [25, 34, 28, 22],\n",
    "   'gender': ['F', 'M', 'F', 'NB'],\n",
    "   'country': ['USA', 'India', 'Canada', 'Mexico'],\n",
    "   'birth_date': pd.to_datetime(['1999-03-15', '1990-08-22', '1996-11-03', '2002-05-30']),\n",
    "   'score': [82.5, 91.0, 88.5, 79.0]\n",
    "})\n",
    "\n",
    "# Show the data types of each column\n",
    "print(\"Column types:\")\n",
    "print(df.dtypes)\n",
    "\n",
    "# Show the first few rows of data\n",
    "print(\"\\nFirst few rows:\")\n",
    "print(df)"
   ]
  }
 ],
 "metadata": {
  "colab": {
   "provenance": []
  },
  "kernelspec": {
   "display_name": "Python 3 (ipykernel)",
   "language": "python",
   "name": "python3"
  },
  "language_info": {
   "codemirror_mode": {
    "name": "ipython",
    "version": 3
   },
   "file_extension": ".py",
   "mimetype": "text/x-python",
   "name": "python",
   "nbconvert_exporter": "python",
   "pygments_lexer": "ipython3",
   "version": "3.12.3"
  }
 },
 "nbformat": 4,
 "nbformat_minor": 4
}
