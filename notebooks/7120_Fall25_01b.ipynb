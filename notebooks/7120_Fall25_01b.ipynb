{
 "cells": [
  {
   "cell_type": "code",
   "execution_count": null,
   "metadata": {
    "colab": {
     "base_uri": "https://localhost:8080/"
    },
    "id": "kfF2bhMBRiAd",
    "outputId": "56e6006d-915a-446a-9cc6-d59223cab75d"
   },
   "outputs": [],
   "source": [
    "import sys\n",
    "import numpy as np\n",
    "import pandas\n",
    "import scipy\n",
    "import matplotlib\n",
    "import seaborn\n",
    "import sklearn\n",
    "\n",
    "print(f\"Python version: {sys.version.split()[0]}\")\n",
    "print(f\"NumPy version: {np.__version__}\")\n",
    "print(f\"Pandas version: {pandas.__version__}\")\n",
    "print(f\"SciPy version: {scipy.__version__}\")\n",
    "print(f\"Matplotlib version: {matplotlib.__version__}\")\n",
    "print(f\"Seaborn version: {seaborn.__version__}\")\n",
    "print(f\"Scikit-learn version: {sklearn.__version__}\")\n"
   ]
  },
  {
   "cell_type": "markdown",
   "metadata": {
    "id": "Z9Qfp4hC2QBL"
   },
   "source": [
    "Create an integer object and inspect its properties."
   ]
  },
  {
   "cell_type": "code",
   "execution_count": null,
   "metadata": {
    "id": "EhSLg1Y12V3o"
   },
   "outputs": [],
   "source": [
    "num = 42\n",
    "print(f\"value: {num}\")\n",
    "print(f\"type:  {type(num)}\")\n",
    "print(f\"id:    {id(num)}\")\n"
   ]
  },
  {
   "cell_type": "markdown",
   "metadata": {
    "id": "Zwgv1xQsvamD"
   },
   "source": [
    "Create a list with 1m elements and use a list comprehension from base Python to create a new list where each element is doubled.\n"
   ]
  },
  {
   "cell_type": "code",
   "execution_count": null,
   "metadata": {
    "id": "ESDYju8shSQW"
   },
   "outputs": [],
   "source": [
    "my_list = list(range(1_000_000))\n"
   ]
  },
  {
   "cell_type": "code",
   "execution_count": null,
   "metadata": {
    "colab": {
     "base_uri": "https://localhost:8080/"
    },
    "id": "u9dQ3YXGRYX5",
    "outputId": "17c6a28f-a165-42f5-c6b5-79fc416c9245"
   },
   "outputs": [],
   "source": [
    "%timeit my_list2 = [x * 2 for x in my_list]"
   ]
  },
  {
   "cell_type": "markdown",
   "metadata": {
    "id": "Zf978hVLyTOw"
   },
   "source": [
    "\n",
    "List comprehension is just shorthand for the following loop:\n",
    "\n",
    "```text\n",
    "# create an empty list\n",
    "my_list2a = []\n",
    "\n",
    "# loop through values of my list and append 2x the value of each to the list\n",
    "for x in my_list:\n",
    "  my_list2a.append(x * 2)\n",
    "```"
   ]
  },
  {
   "cell_type": "markdown",
   "metadata": {
    "id": "EbJ_IvcuyqDi"
   },
   "source": [
    "Compare with using NumPy. Perform the same operation using a NumPy array, and optimized array arithmetic."
   ]
  },
  {
   "cell_type": "code",
   "execution_count": null,
   "metadata": {
    "colab": {
     "base_uri": "https://localhost:8080/"
    },
    "id": "WO39NXhIvElY",
    "outputId": "c3b1e34e-cb2a-424f-e60f-4ce9cec61e38"
   },
   "outputs": [],
   "source": [
    "my_array = np.array(my_list)  # convert Python list into NumPy array\n",
    "%timeit my_array2 = my_array * 2"
   ]
  },
  {
   "cell_type": "code",
   "execution_count": null,
   "metadata": {
    "colab": {
     "base_uri": "https://localhost:8080/"
    },
    "id": "gXeyKnJ0vO-l",
    "outputId": "c7962ec9-6fcf-4771-a9ea-9ba550ec73c5"
   },
   "outputs": [],
   "source": [
    "66.6 / 1.4"
   ]
  }
 ],
 "metadata": {
  "colab": {
   "provenance": []
  },
  "kernelspec": {
   "display_name": "Python 3 (ipykernel)",
   "language": "python",
   "name": "python3"
  },
  "language_info": {
   "codemirror_mode": {
    "name": "ipython",
    "version": 3
   },
   "file_extension": ".py",
   "mimetype": "text/x-python",
   "name": "python",
   "nbconvert_exporter": "python",
   "pygments_lexer": "ipython3",
   "version": "3.12.3"
  }
 },
 "nbformat": 4,
 "nbformat_minor": 4
}
