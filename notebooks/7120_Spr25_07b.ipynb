{
 "cells": [
  {
   "cell_type": "markdown",
   "id": "0",
   "metadata": {},
   "source": [
    "# Regression, continued."
   ]
  },
  {
   "cell_type": "markdown",
   "id": "1",
   "metadata": {},
   "source": [
    "## Setup"
   ]
  },
  {
   "cell_type": "markdown",
   "id": "2",
   "metadata": {},
   "source": [
    "Load the packages and configure environment."
   ]
  },
  {
   "cell_type": "code",
   "execution_count": null,
   "id": "3",
   "metadata": {},
   "outputs": [],
   "source": [
    "%matplotlib inline\n",
    "\n",
    "import matplotlib.pylab as plt\n",
    "import numpy as np\n",
    "import pandas as pd\n",
    "\n",
    "from sklearn.linear_model import LinearRegression\n",
    "from sklearn.metrics import mean_squared_error, r2_score"
   ]
  },
  {
   "cell_type": "markdown",
   "id": "4",
   "metadata": {},
   "source": [
    "## Interaction Terms"
   ]
  },
  {
   "cell_type": "markdown",
   "id": "5",
   "metadata": {},
   "source": [
    "### Advertising Data"
   ]
  },
  {
   "cell_type": "markdown",
   "id": "6",
   "metadata": {},
   "source": [
    "Using the Advertising data from ISL."
   ]
  },
  {
   "cell_type": "code",
   "execution_count": null,
   "id": "7",
   "metadata": {},
   "outputs": [],
   "source": [
    "# download the data set directly from the web using pandas\n",
    "url = \"https://raw.githubusercontent.com/olearydj/INSY7120/refs/heads/main/notebooks/data/Advertising.csv\"\n",
    "data = pd.read_csv(url)"
   ]
  },
  {
   "cell_type": "code",
   "execution_count": null,
   "id": "8",
   "metadata": {},
   "outputs": [],
   "source": [
    "# recall that we need to drop the duplicated row numbers in the first column\n",
    "sales = data.drop(data.columns[0], axis=1)\n",
    "sales.head()"
   ]
  },
  {
   "cell_type": "markdown",
   "id": "9",
   "metadata": {},
   "source": [
    "If we are interested in a model based on radio, TV and their interaction, first get the **main effects**:"
   ]
  },
  {
   "cell_type": "code",
   "execution_count": null,
   "id": "10",
   "metadata": {},
   "outputs": [],
   "source": [
    "# get the predictors of interest\n",
    "X = sales[['radio', 'TV']]\n",
    "y = sales[['sales']]"
   ]
  },
  {
   "cell_type": "markdown",
   "id": "11",
   "metadata": {},
   "source": [
    "Then use `PolynomialFeatures` from SKL to transform the features before fitting the model. In this case:\n",
    "\n",
    "- `degree=2` limited to two-way interactions (products of two variables) between features\n",
    "- `interaction_only=True` generates only the interaction terms (e.g., $radio \\times tv$), without the squared terms (e.g., $radio^2$)\n",
    "- `include_bias=False` lets LinearRegression compute the intercept\n",
    "\n",
    "The process below first specifies the transformation and then applies it with the fit method."
   ]
  },
  {
   "cell_type": "code",
   "execution_count": null,
   "id": "12",
   "metadata": {},
   "outputs": [],
   "source": [
    "# generate interaction terms\n",
    "from sklearn.preprocessing import PolynomialFeatures\n",
    "poly = PolynomialFeatures(degree=2, interaction_only=True, include_bias=False)\n",
    "X_interact = poly.fit_transform(X)\n",
    "\n",
    "# inspect result - no head method for numpy, slice\n",
    "X_interact[:5]"
   ]
  },
  {
   "cell_type": "markdown",
   "id": "13",
   "metadata": {},
   "source": [
    "We can see that the first two columns are the original values for radio and TV and the third is their product.\n",
    "\n",
    "To confirm the features created, use `poly.get_feature_names_out()`"
   ]
  },
  {
   "cell_type": "code",
   "execution_count": null,
   "id": "14",
   "metadata": {},
   "outputs": [],
   "source": [
    "poly.get_feature_names_out()"
   ]
  },
  {
   "cell_type": "markdown",
   "id": "15",
   "metadata": {},
   "source": [
    "After transforming the input features, we can continue fitting the model and evaluating the results, as before."
   ]
  },
  {
   "cell_type": "code",
   "execution_count": null,
   "id": "16",
   "metadata": {},
   "outputs": [],
   "source": [
    "mlr_interact = LinearRegression()\n",
    "\n",
    "# use the transformed predictors!\n",
    "mlr_interact.fit(X_interact, y)"
   ]
  },
  {
   "cell_type": "code",
   "execution_count": null,
   "id": "17",
   "metadata": {},
   "outputs": [],
   "source": [
    "# look at the estimated model parameters\n",
    "print(f\"Model Coefficients: {mlr_interact.coef_}\")\n",
    "print(f\"Model Intercept: {mlr_interact.intercept_}\")"
   ]
  },
  {
   "cell_type": "code",
   "execution_count": null,
   "id": "18",
   "metadata": {},
   "outputs": [],
   "source": [
    "# Make predictions with interaction data!\n",
    "y_pred = mlr_interact.predict(X_interact)\n",
    "\n",
    "# Evaluate the model\n",
    "mse = mean_squared_error(y, y_pred)\n",
    "rmse = np.sqrt(mse)\n",
    "r2 = r2_score(y, y_pred)\n",
    "\n",
    "print(f\"Multiple Linear Regression Model, with Interaction Terms:\")\n",
    "print(f\"Mean Squared Error: {mse:.2f}\")\n",
    "print(f\"RMSE: {rmse:.2f}\")\n",
    "print(f\"R² Score: {r2:.4f}\")"
   ]
  },
  {
   "cell_type": "markdown",
   "id": "19",
   "metadata": {},
   "source": [
    "Compare without interaction."
   ]
  },
  {
   "cell_type": "code",
   "execution_count": null,
   "id": "20",
   "metadata": {},
   "outputs": [],
   "source": [
    "mlr = LinearRegression()\n",
    "mlr.fit(X, y)\n",
    "\n",
    "# for just r2, use score method of fitted model\n",
    "# this generates predictions implicitly\n",
    "# for other metrics you need to predict first\n",
    "r2 = mlr.score(X, y)\n",
    "print(f\"R² Score: {r2:.4f}\")"
   ]
  },
  {
   "cell_type": "markdown",
   "id": "21",
   "metadata": {},
   "source": [
    "Define a function to simplify."
   ]
  },
  {
   "cell_type": "code",
   "execution_count": null,
   "id": "22",
   "metadata": {},
   "outputs": [],
   "source": [
    "def quick_fit(X, y):\n",
    "    model = LinearRegression()\n",
    "    model.fit(X, y)\n",
    "    r2 = model.score(X,y)\n",
    "    print(f\"R² Score: {r2:.4f}\")"
   ]
  },
  {
   "cell_type": "markdown",
   "id": "23",
   "metadata": {},
   "source": [
    "Compare with SLR using radio."
   ]
  },
  {
   "cell_type": "code",
   "execution_count": null,
   "id": "24",
   "metadata": {},
   "outputs": [],
   "source": [
    "X = sales[['radio']]\n",
    "quick_fit(X, y)"
   ]
  },
  {
   "cell_type": "markdown",
   "id": "25",
   "metadata": {},
   "source": [
    "Compare with SLR using TV."
   ]
  },
  {
   "cell_type": "code",
   "execution_count": null,
   "id": "26",
   "metadata": {},
   "outputs": [],
   "source": [
    "X = sales[['TV']]\n",
    "quick_fit(X, y)"
   ]
  },
  {
   "cell_type": "markdown",
   "id": "27",
   "metadata": {},
   "source": [
    "SLR radio (0.332) < SLR TV (0.612) < MLR radio + TV (0.897) < MLR radio * TV (0.968)"
   ]
  },
  {
   "cell_type": "markdown",
   "id": "28",
   "metadata": {},
   "source": [
    "### Credit Data"
   ]
  },
  {
   "cell_type": "markdown",
   "id": "29",
   "metadata": {},
   "source": [
    "Use `Credit` dataset from ISL."
   ]
  },
  {
   "cell_type": "code",
   "execution_count": null,
   "id": "30",
   "metadata": {},
   "outputs": [],
   "source": [
    "# download the data set directly from the web using pandas\n",
    "url = \"https://raw.githubusercontent.com/olearydj/INSY7120/refs/heads/main/notebooks/data/Credit.csv\"\n",
    "credit = pd.read_csv(url)"
   ]
  },
  {
   "cell_type": "code",
   "execution_count": null,
   "id": "31",
   "metadata": {},
   "outputs": [],
   "source": [
    "credit.columns = credit.columns.str.lower()\n",
    "credit = pd.get_dummies(credit, drop_first=True, dtype=int)\n",
    "credit.head()"
   ]
  },
  {
   "cell_type": "markdown",
   "id": "32",
   "metadata": {},
   "source": [
    "Predict `balance` from `income` (quant) and `student` (qual)."
   ]
  },
  {
   "cell_type": "code",
   "execution_count": null,
   "id": "33",
   "metadata": {},
   "outputs": [],
   "source": [
    "# get the predictors of interest\n",
    "X = credit[['income', 'student_Yes']]\n",
    "y = credit[['balance']]"
   ]
  },
  {
   "cell_type": "code",
   "execution_count": null,
   "id": "34",
   "metadata": {},
   "outputs": [],
   "source": [
    "poly = PolynomialFeatures(degree=2, interaction_only=True, include_bias=False)\n",
    "X_interact = poly.fit_transform(X)\n",
    "\n",
    "# inspect result - no head method for numpy, slice\n",
    "X_interact[:5]"
   ]
  },
  {
   "cell_type": "code",
   "execution_count": null,
   "id": "35",
   "metadata": {},
   "outputs": [],
   "source": [
    "poly.get_feature_names_out()"
   ]
  },
  {
   "cell_type": "code",
   "execution_count": null,
   "id": "36",
   "metadata": {},
   "outputs": [],
   "source": [
    "quick_fit(X_interact, y)"
   ]
  },
  {
   "cell_type": "code",
   "execution_count": null,
   "id": "37",
   "metadata": {},
   "outputs": [],
   "source": [
    "quick_fit(X, y)"
   ]
  },
  {
   "cell_type": "code",
   "execution_count": null,
   "id": "38",
   "metadata": {},
   "outputs": [],
   "source": [
    "# Create a figure with two subplots side by side\n",
    "fig, axes = plt.subplots(1, 2, figsize=(16, 7))\n",
    "fig.suptitle('Income vs Balance by Student Status: Without vs With Interaction', fontsize=16)\n",
    "\n",
    "# Get student and non-student data\n",
    "students = credit[credit['student_Yes'] == 1]\n",
    "non_students = credit[credit['student_Yes'] == 0]\n",
    "\n",
    "# Common x range for prediction lines\n",
    "x_range = np.linspace(credit['income'].min(), credit['income'].max(), 100)\n",
    "\n",
    "# ------ Left plot: Model without interaction (X) ------\n",
    "# Scatter all data points\n",
    "axes[0].scatter(non_students['income'], non_students['balance'], alpha=0.5, color='blue', label='Non-Student')\n",
    "axes[0].scatter(students['income'], students['balance'], alpha=0.5, color='red', label='Student')\n",
    "\n",
    "# Fit model without interaction\n",
    "model_no_interact = LinearRegression().fit(X, y)\n",
    "\n",
    "# Predict for non-students and students\n",
    "X_pred_non = np.column_stack([x_range, np.zeros(100)])  # student_yes = 0\n",
    "X_pred_stu = np.column_stack([x_range, np.ones(100)])   # student_yes = 1\n",
    "y_pred_non = model_no_interact.predict(X_pred_non)\n",
    "y_pred_stu = model_no_interact.predict(X_pred_stu)\n",
    "\n",
    "# Plot regression lines\n",
    "axes[0].plot(x_range, y_pred_non, 'b-', linewidth=2, label='Non-Student Line')\n",
    "axes[0].plot(x_range, y_pred_stu, 'r-', linewidth=2, label='Student Line')\n",
    "axes[0].set_title('Without Interaction (Main Effects Only)')\n",
    "axes[0].set_xlabel('Income')\n",
    "axes[0].set_ylabel('Balance')\n",
    "axes[0].legend()\n",
    "axes[0].grid(alpha=0.3)\n",
    "\n",
    "# ------ Right plot: Model with interaction (X_interact) ------\n",
    "# Scatter all data points\n",
    "axes[1].scatter(non_students['income'], non_students['balance'], alpha=0.5, color='blue', label='Non-Student')\n",
    "axes[1].scatter(students['income'], students['balance'], alpha=0.5, color='red', label='Student')\n",
    "\n",
    "# Fit model with interaction\n",
    "model_interact = LinearRegression().fit(X_interact, y)\n",
    "\n",
    "# Prepare prediction data for interaction model\n",
    "X_interact_pred_non = poly.transform(X_pred_non)  # Transform with interaction for non-students\n",
    "X_interact_pred_stu = poly.transform(X_pred_stu)  # Transform with interaction for students\n",
    "y_interact_pred_non = model_interact.predict(X_interact_pred_non)\n",
    "y_interact_pred_stu = model_interact.predict(X_interact_pred_stu)\n",
    "\n",
    "# Plot regression lines\n",
    "axes[1].plot(x_range, y_interact_pred_non, 'b-', linewidth=2, label='Non-Student Line')\n",
    "axes[1].plot(x_range, y_interact_pred_stu, 'r-', linewidth=2, label='Student Line') \n",
    "axes[1].set_title('With Interaction')\n",
    "axes[1].set_xlabel('Income')\n",
    "axes[1].set_ylabel('Balance')\n",
    "axes[1].legend()\n",
    "axes[1].grid(alpha=0.3)\n",
    "\n",
    "plt.tight_layout()\n",
    "plt.subplots_adjust(top=0.9)\n",
    "plt.show()"
   ]
  },
  {
   "cell_type": "markdown",
   "id": "39",
   "metadata": {},
   "source": [
    "## Polynomial Terms"
   ]
  },
  {
   "cell_type": "markdown",
   "id": "40",
   "metadata": {},
   "source": [
    "Use `Auto` dataset."
   ]
  },
  {
   "cell_type": "code",
   "execution_count": null,
   "id": "41",
   "metadata": {},
   "outputs": [],
   "source": [
    "# download the data set directly from the web using pandas\n",
    "url = \"https://raw.githubusercontent.com/olearydj/INSY7120/refs/heads/main/notebooks/data/Auto.csv\"\n",
    "cars = pd.read_csv(url)"
   ]
  },
  {
   "cell_type": "code",
   "execution_count": null,
   "id": "42",
   "metadata": {},
   "outputs": [],
   "source": [
    "cars.head()"
   ]
  },
  {
   "cell_type": "markdown",
   "id": "43",
   "metadata": {},
   "source": [
    "From HW1, you may have seen that `autos` includes question marks for some horsepower values (5 rows). We'll have to clean that up first. For this example we'll simply convert them to `NaN` and drop those rows."
   ]
  },
  {
   "cell_type": "code",
   "execution_count": null,
   "id": "44",
   "metadata": {},
   "outputs": [],
   "source": [
    "cars['horsepower'] = pd.to_numeric(cars['horsepower'], errors='coerce')\n",
    "cars_clean = cars.dropna(subset=['horsepower'])"
   ]
  },
  {
   "cell_type": "markdown",
   "id": "45",
   "metadata": {},
   "source": [
    "Same procedure as before, except `interaction_only=False` (the default)."
   ]
  },
  {
   "cell_type": "code",
   "execution_count": null,
   "id": "46",
   "metadata": {},
   "outputs": [],
   "source": [
    "# get the predictors of interest\n",
    "X = cars_clean[['horsepower']]\n",
    "y = cars_clean[['mpg']]"
   ]
  },
  {
   "cell_type": "code",
   "execution_count": null,
   "id": "47",
   "metadata": {},
   "outputs": [],
   "source": [
    "# generate polynomial terms\n",
    "from sklearn.preprocessing import PolynomialFeatures\n",
    "poly = PolynomialFeatures(degree=2, interaction_only=False, include_bias=False)\n",
    "X_interact = poly.fit_transform(X)\n",
    "\n",
    "# inspect result - no head method for numpy, slice\n",
    "X_interact[:5]"
   ]
  },
  {
   "cell_type": "code",
   "execution_count": null,
   "id": "48",
   "metadata": {},
   "outputs": [],
   "source": [
    "poly.get_feature_names_out()"
   ]
  },
  {
   "cell_type": "code",
   "execution_count": null,
   "id": "49",
   "metadata": {},
   "outputs": [],
   "source": [
    "cars_power = LinearRegression()\n",
    "cars_power.fit(X_interact, y)"
   ]
  },
  {
   "cell_type": "code",
   "execution_count": null,
   "id": "50",
   "metadata": {},
   "outputs": [],
   "source": [
    "# look at the estimated model parameters\n",
    "print(f\"Model Coefficients: {cars_power.coef_}\")\n",
    "print(f\"Model Intercept: {cars_power.intercept_}\")"
   ]
  },
  {
   "cell_type": "code",
   "execution_count": null,
   "id": "51",
   "metadata": {},
   "outputs": [],
   "source": [
    "# Make predictions with interaction data!\n",
    "y_pred = cars_power.predict(X_interact)\n",
    "\n",
    "# Evaluate the model\n",
    "mse = mean_squared_error(y, y_pred)\n",
    "rmse = np.sqrt(mse)\n",
    "r2 = r2_score(y, y_pred)\n",
    "\n",
    "print(f\"Multiple Linear Regression Model, with Polynomial Terms:\")\n",
    "print(f\"Mean Squared Error: {mse:.2f}\")\n",
    "print(f\"RMSE: {rmse:.2f}\")\n",
    "print(f\"R² Score: {r2:.4f}\")"
   ]
  },
  {
   "cell_type": "code",
   "execution_count": null,
   "id": "52",
   "metadata": {},
   "outputs": [],
   "source": []
  }
 ],
 "metadata": {
  "kernelspec": {
   "display_name": "Python 3 (ipykernel)",
   "language": "python",
   "name": "python3"
  },
  "language_info": {
   "codemirror_mode": {
    "name": "ipython",
    "version": 3
   },
   "file_extension": ".py",
   "mimetype": "text/x-python",
   "name": "python",
   "nbconvert_exporter": "python",
   "pygments_lexer": "ipython3",
   "version": "3.12.3"
  }
 },
 "nbformat": 4,
 "nbformat_minor": 5
}
