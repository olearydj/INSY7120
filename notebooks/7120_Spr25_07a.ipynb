{
 "cells": [
  {
   "cell_type": "markdown",
   "id": "0",
   "metadata": {},
   "source": [
    "# Regression, continued."
   ]
  },
  {
   "cell_type": "markdown",
   "id": "1",
   "metadata": {},
   "source": [
    "## Setup"
   ]
  },
  {
   "cell_type": "markdown",
   "id": "2",
   "metadata": {},
   "source": [
    "Load the packages and configure environment."
   ]
  },
  {
   "cell_type": "code",
   "execution_count": null,
   "id": "3",
   "metadata": {},
   "outputs": [],
   "source": [
    "%matplotlib inline\n",
    "\n",
    "import matplotlib.pylab as plt\n",
    "import numpy as np\n",
    "import pandas as pd"
   ]
  },
  {
   "cell_type": "markdown",
   "id": "4",
   "metadata": {},
   "source": [
    "## Binary Qualitative Predictors"
   ]
  },
  {
   "cell_type": "markdown",
   "id": "5",
   "metadata": {},
   "source": [
    "Using the Credit data from ISL."
   ]
  },
  {
   "cell_type": "code",
   "execution_count": null,
   "id": "6",
   "metadata": {},
   "outputs": [],
   "source": [
    "# download the data set directly from the web using pandas\n",
    "url = \"https://raw.githubusercontent.com/olearydj/INSY7120/refs/heads/main/notebooks/data/Credit.csv\"\n",
    "credit = pd.read_csv(url)"
   ]
  },
  {
   "cell_type": "code",
   "execution_count": null,
   "id": "7",
   "metadata": {},
   "outputs": [],
   "source": [
    "# Basic structure\n",
    "print(credit.head())\n",
    "print(\"Dataset shape:\", credit.shape)\n",
    "print(\"\\nData types:\\n\", credit.dtypes)\n",
    "\n",
    "# Check for missing values\n",
    "print(\"\\nMissing values:\\n\", credit.isnull().sum())\n",
    "\n",
    "# Basic statistics\n",
    "print(\"\\nSummary statistics:\\n\")\n",
    "credit.describe()"
   ]
  },
  {
   "cell_type": "code",
   "execution_count": null,
   "id": "8",
   "metadata": {},
   "outputs": [],
   "source": [
    "# Convert all column names to lowercase\n",
    "credit.columns = credit.columns.str.lower()"
   ]
  },
  {
   "cell_type": "code",
   "execution_count": null,
   "id": "9",
   "metadata": {},
   "outputs": [],
   "source": [
    "credit"
   ]
  },
  {
   "cell_type": "code",
   "execution_count": null,
   "id": "10",
   "metadata": {},
   "outputs": [],
   "source": [
    "import seaborn as sns\n",
    "\n",
    "# Set figure size for better visualization\n",
    "plt.figure(figsize=(10, 6))\n",
    "\n",
    "# 1. Bar plots for individual categorical variables\n",
    "plt.subplot(2, 2, 1)\n",
    "sns.countplot(x='own', data=credit)\n",
    "plt.title('Housing Ownership Status')\n",
    "plt.xlabel('Owns Home')\n",
    "plt.ylabel('Count')\n",
    "\n",
    "plt.subplot(2, 2, 2)\n",
    "sns.countplot(x='student', data=credit)\n",
    "plt.title('Student Status')\n",
    "plt.xlabel('Is Student')\n",
    "plt.ylabel('Count')\n",
    "\n",
    "plt.subplot(2, 2, 3)\n",
    "sns.countplot(x='married', data=credit)\n",
    "plt.title('Marital Status')\n",
    "plt.xlabel('Is Married')\n",
    "plt.ylabel('Count')\n",
    "\n",
    "plt.subplot(2, 2, 4)\n",
    "sns.countplot(x='region', data=credit)\n",
    "plt.title('Region Distribution')\n",
    "plt.xlabel('Region')\n",
    "plt.ylabel('Count')\n",
    "plt.xticks(rotation=45)\n",
    "\n",
    "plt.tight_layout()\n",
    "plt.savefig('categorical_variables.png')\n",
    "plt.show()\n"
   ]
  },
  {
   "cell_type": "markdown",
   "id": "11",
   "metadata": {},
   "source": [
    "### Dummy Variables"
   ]
  },
  {
   "cell_type": "code",
   "execution_count": null,
   "id": "12",
   "metadata": {},
   "outputs": [],
   "source": [
    "# Create dummy variables and keep only one (drop_first=True)\n",
    "pd.get_dummies(credit)"
   ]
  },
  {
   "cell_type": "markdown",
   "id": "13",
   "metadata": {},
   "source": [
    "**Multicollinearity** occurs when one variable can be perfectly predicted by another. In this result, `own_No` is simply the negated values of `own_Yes`. \n",
    "\n",
    "When creating dummies for categorical variables with $n$ categories, you only need $n-1$ dummies to capture all the information without redundancy. We can use the `drop_first` option to address this.\n",
    "\n",
    "We also need to convert the True / False values into 1 / 0. We can accomplish this by specifying the `int` datatype."
   ]
  },
  {
   "cell_type": "code",
   "execution_count": null,
   "id": "14",
   "metadata": {},
   "outputs": [],
   "source": [
    "credit_enc = pd.get_dummies(credit, drop_first=True, dtype=int)\n",
    "credit_enc"
   ]
  },
  {
   "cell_type": "markdown",
   "id": "15",
   "metadata": {},
   "source": [
    "How has `region`, a factor with three levels, been represented by two columns? First, the each level of `region` is given its own column, where `1` is used to indicate membership.\n",
    "\n",
    "```text\n",
    "# Step 1: Initial dummy creation (internally)\n",
    "region_East   region_South   region_West\n",
    "    1             0             0        # East region\n",
    "    0             1             0        # South region\n",
    "    0             0             1        # West region\n",
    "```\n",
    "\n",
    "From this we can see multicollinearity: any region can be perfectly predicted by the value of the other two. For example, if east and south are zero, west must be one. When `drop_first` is used, the `east` level is represented by zeroes in both `south` and `west`, ensuring that the transformation of `region` preserves the independence of all predictors.\n",
    "\n",
    "```text\n",
    "# Step 2: After drop_first=True\n",
    "region_South   region_West\n",
    "    0             0            # East region (both False because it was East)\n",
    "    1             0            # South region\n",
    "    0             1            # West region\n",
    "```\n",
    "\n",
    "When using dummies in this manner, the implicit level (e.g. `east`) is the baseline, as its coefficient is the intercept. Other levels are measured relative to it."
   ]
  },
  {
   "cell_type": "markdown",
   "id": "16",
   "metadata": {},
   "source": [
    "### Simple Linear Regression"
   ]
  },
  {
   "cell_type": "markdown",
   "id": "17",
   "metadata": {},
   "source": [
    "Ownership as a single predictor for credit balance."
   ]
  },
  {
   "cell_type": "code",
   "execution_count": null,
   "id": "18",
   "metadata": {},
   "outputs": [],
   "source": [
    "X = credit_enc[['own_Yes']]\n",
    "y = credit_enc[['balance']]"
   ]
  },
  {
   "cell_type": "code",
   "execution_count": null,
   "id": "19",
   "metadata": {},
   "outputs": [],
   "source": [
    "from sklearn.linear_model import LinearRegression\n",
    "from sklearn.metrics import mean_squared_error, r2_score"
   ]
  },
  {
   "cell_type": "code",
   "execution_count": null,
   "id": "20",
   "metadata": {},
   "outputs": [],
   "source": [
    "slr_own = LinearRegression()\n",
    "slr_own.fit(X, y)"
   ]
  },
  {
   "cell_type": "code",
   "execution_count": null,
   "id": "21",
   "metadata": {},
   "outputs": [],
   "source": [
    "# look at the estimated model parameters\n",
    "print(f\"Model Coefficients: {slr_own.coef_}\")\n",
    "print(f\"Model Intercept: {slr_own.intercept_}\")"
   ]
  },
  {
   "cell_type": "markdown",
   "id": "22",
   "metadata": {},
   "source": [
    "These results match those from the text. The square brackets are an artifact of the data structures expected by SKL. The coefficient appears as `[[19.73]]` (nested list) because it came from a 2D DataFrame with a single column, while the intercept appears as `[509.80]` (single list) because it's always a 1D array even for multiple predictors. Both represent scalar values in this single-predictor regression."
   ]
  },
  {
   "cell_type": "code",
   "execution_count": null,
   "id": "23",
   "metadata": {},
   "outputs": [],
   "source": [
    "# Make predictions\n",
    "y_pred = slr_own.predict(X)\n",
    "\n",
    "# Evaluate the model\n",
    "mse = mean_squared_error(y, y_pred)\n",
    "rmse = np.sqrt(mse)\n",
    "r2 = r2_score(y, y_pred)\n",
    "\n",
    "print(f\"Simple Linear Regression Model:\")\n",
    "print(f\"credit = {slr_own.intercept_[0]:.2f} + {slr_own.coef_[0][0]:.2f} * own_Yes\")\n",
    "print(f\"Mean Squared Error: {mse:.2f}\")\n",
    "print(f\"RMSE: {rmse:.2f}\")\n",
    "print(f\"R² Score: {r2:.4f}\")"
   ]
  },
  {
   "cell_type": "markdown",
   "id": "24",
   "metadata": {},
   "source": [
    "Interpret these results."
   ]
  },
  {
   "cell_type": "markdown",
   "id": "25",
   "metadata": {},
   "source": [
    "### Multiple Linear Regression"
   ]
  },
  {
   "cell_type": "markdown",
   "id": "26",
   "metadata": {},
   "source": [
    "The transformation of `region` into a dummy variable makes predicting based on it a MLR task."
   ]
  },
  {
   "cell_type": "code",
   "execution_count": null,
   "id": "27",
   "metadata": {},
   "outputs": [],
   "source": [
    "X = credit_enc[['region_South', 'region_West']]\n",
    "y = credit_enc[['balance']]"
   ]
  },
  {
   "cell_type": "code",
   "execution_count": null,
   "id": "28",
   "metadata": {},
   "outputs": [],
   "source": [
    "mlr_region = LinearRegression()\n",
    "mlr_region.fit(X, y)"
   ]
  },
  {
   "cell_type": "code",
   "execution_count": null,
   "id": "29",
   "metadata": {},
   "outputs": [],
   "source": [
    "# look at the estimated model parameters\n",
    "print(f\"Model Coefficients: {mlr_region.coef_}\")\n",
    "print(f\"Model Intercept: {mlr_region.intercept_}\")"
   ]
  },
  {
   "cell_type": "markdown",
   "id": "30",
   "metadata": {},
   "source": [
    "$balance = 531 - 12.50 \\times region\\_South - 18.69 \\times region\\_West$"
   ]
  },
  {
   "cell_type": "code",
   "execution_count": null,
   "id": "31",
   "metadata": {},
   "outputs": [],
   "source": [
    "# Make predictions\n",
    "y_pred = mlr_region.predict(X)\n",
    "\n",
    "# Evaluate the model\n",
    "mse = mean_squared_error(y, y_pred)\n",
    "rmse = np.sqrt(mse)\n",
    "r2 = r2_score(y, y_pred)\n",
    "\n",
    "print(f\"Multiple Linear Regression Model:\")\n",
    "print(f\"Mean Squared Error: {mse:.2f}\")\n",
    "print(f\"RMSE: {rmse:.2f}\")\n",
    "print(f\"R² Score: {r2:.4f}\")"
   ]
  },
  {
   "cell_type": "code",
   "execution_count": null,
   "id": "32",
   "metadata": {},
   "outputs": [],
   "source": []
  }
 ],
 "metadata": {
  "kernelspec": {
   "display_name": "Python 3 (ipykernel)",
   "language": "python",
   "name": "python3"
  },
  "language_info": {
   "codemirror_mode": {
    "name": "ipython",
    "version": 3
   },
   "file_extension": ".py",
   "mimetype": "text/x-python",
   "name": "python",
   "nbconvert_exporter": "python",
   "pygments_lexer": "ipython3",
   "version": "3.12.3"
  }
 },
 "nbformat": 4,
 "nbformat_minor": 5
}
