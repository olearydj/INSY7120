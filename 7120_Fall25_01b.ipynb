{
  "nbformat": 4,
  "nbformat_minor": 0,
  "metadata": {
    "colab": {
      "provenance": []
    },
    "kernelspec": {
      "name": "python3",
      "display_name": "Python 3"
    },
    "language_info": {
      "name": "python"
    }
  },
  "cells": [
    {
      "cell_type": "code",
      "source": [
        "import sys\n",
        "import numpy as np\n",
        "import pandas\n",
        "import scipy\n",
        "import matplotlib\n",
        "import seaborn\n",
        "import sklearn\n",
        "\n",
        "print(f\"Python version: {sys.version.split()[0]}\")\n",
        "print(f\"NumPy version: {np.__version__}\")\n",
        "print(f\"Pandas version: {pandas.__version__}\")\n",
        "print(f\"SciPy version: {scipy.__version__}\")\n",
        "print(f\"Matplotlib version: {matplotlib.__version__}\")\n",
        "print(f\"Seaborn version: {seaborn.__version__}\")\n",
        "print(f\"Scikit-learn version: {sklearn.__version__}\")\n"
      ],
      "metadata": {
        "id": "kfF2bhMBRiAd",
        "colab": {
          "base_uri": "https://localhost:8080/"
        },
        "outputId": "56e6006d-915a-446a-9cc6-d59223cab75d"
      },
      "execution_count": null,
      "outputs": [
        {
          "output_type": "stream",
          "name": "stdout",
          "text": [
            "Python version: 3.11.11\n",
            "NumPy version: 1.26.4\n",
            "Pandas version: 2.2.2\n",
            "SciPy version: 1.13.1\n",
            "Matplotlib version: 3.10.0\n",
            "Seaborn version: 0.13.2\n",
            "Scikit-learn version: 1.6.0\n"
          ]
        }
      ]
    },
    {
      "cell_type": "markdown",
      "source": [
        "Create an integer object and inspect its properties."
      ],
      "metadata": {
        "id": "Z9Qfp4hC2QBL"
      }
    },
    {
      "cell_type": "code",
      "source": [
        "num = 42\n",
        "print(f\"value: {num}\")\n",
        "print(f\"type:  {type(num)}\")\n",
        "print(f\"id:    {id(num)}\")\n"
      ],
      "metadata": {
        "id": "EhSLg1Y12V3o"
      },
      "execution_count": null,
      "outputs": []
    },
    {
      "cell_type": "markdown",
      "source": [
        "Create a list with 1m elements and use a list comprehension from base Python to create a new list where each element is doubled.\n"
      ],
      "metadata": {
        "id": "Zwgv1xQsvamD"
      }
    },
    {
      "cell_type": "code",
      "source": [
        "my_list = list(range(1_000_000))\n"
      ],
      "metadata": {
        "id": "ESDYju8shSQW"
      },
      "execution_count": null,
      "outputs": []
    },
    {
      "cell_type": "code",
      "source": [
        "%timeit my_list2 = [x * 2 for x in my_list]"
      ],
      "metadata": {
        "colab": {
          "base_uri": "https://localhost:8080/"
        },
        "id": "u9dQ3YXGRYX5",
        "outputId": "17c6a28f-a165-42f5-c6b5-79fc416c9245"
      },
      "execution_count": null,
      "outputs": [
        {
          "output_type": "stream",
          "name": "stdout",
          "text": [
            "66.6 ms ± 14.8 ms per loop (mean ± std. dev. of 7 runs, 10 loops each)\n"
          ]
        }
      ]
    },
    {
      "cell_type": "markdown",
      "source": [
        "\n",
        "List comprehension is just shorthand for the following loop:\n",
        "\n",
        "```text\n",
        "# create an empty list\n",
        "my_list2a = []\n",
        "\n",
        "# loop through values of my list and append 2x the value of each to the list\n",
        "for x in my_list:\n",
        "  my_list2a.append(x * 2)\n",
        "```"
      ],
      "metadata": {
        "id": "Zf978hVLyTOw"
      }
    },
    {
      "cell_type": "markdown",
      "source": [
        "Compare with using NumPy. Perform the same operation using a NumPy array, and optimized array arithmetic."
      ],
      "metadata": {
        "id": "EbJ_IvcuyqDi"
      }
    },
    {
      "cell_type": "code",
      "source": [
        "my_array = np.array(my_list)  # convert Python list into NumPy array\n",
        "%timeit my_array2 = my_array * 2"
      ],
      "metadata": {
        "id": "WO39NXhIvElY",
        "colab": {
          "base_uri": "https://localhost:8080/"
        },
        "outputId": "c3b1e34e-cb2a-424f-e60f-4ce9cec61e38"
      },
      "execution_count": null,
      "outputs": [
        {
          "output_type": "stream",
          "name": "stdout",
          "text": [
            "1.4 ms ± 147 µs per loop (mean ± std. dev. of 7 runs, 1000 loops each)\n"
          ]
        }
      ]
    },
    {
      "cell_type": "code",
      "source": [
        "66.6 / 1.4"
      ],
      "metadata": {
        "id": "gXeyKnJ0vO-l",
        "colab": {
          "base_uri": "https://localhost:8080/"
        },
        "outputId": "c7962ec9-6fcf-4771-a9ea-9ba550ec73c5"
      },
      "execution_count": null,
      "outputs": [
        {
          "output_type": "execute_result",
          "data": {
            "text/plain": [
              "47.57142857142857"
            ]
          },
          "metadata": {},
          "execution_count": 6
        }
      ]
    }
  ]
}